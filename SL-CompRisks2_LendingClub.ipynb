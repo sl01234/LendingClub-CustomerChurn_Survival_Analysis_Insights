{
 "cells": [
  {
   "cell_type": "code",
   "execution_count": null,
   "id": "parallel-sunrise",
   "metadata": {
    "scrolled": true
   },
   "outputs": [],
   "source": [
    "import numpy as np\n",
    "import pandas as pd\n",
    "pd.set_option('display.max_columns', None)\n",
    "pd.set_option('display.max_rows', None)\n",
    "import matplotlib as mpl\n",
    "import matplotlib.pyplot as plt\n",
    "from datetime import datetime\n",
    "from datetime import timedelta\n",
    "import seaborn as sns"
   ]
  },
  {
   "cell_type": "markdown",
   "id": "requested-payroll",
   "metadata": {},
   "source": [
    "### *** Next sections go over data preprocessing, whose results fed into the R file 'SL3-LendingClub_Project.R'  \n",
    "### *** where survival analysis is done and the curves plotted.  Explanation of methodology given in R file.\n",
    "### *** You can either go down line by line for every preprocessing step in order, or follow heading instructions to skip over intermediate steps to go directly to sections of interest"
   ]
  },
  {
   "cell_type": "code",
   "execution_count": null,
   "id": "stainless-premiere",
   "metadata": {},
   "outputs": [],
   "source": [
    "# Read in dataframe\n",
    "df_accepted1_sm_inversetransformed = pd.read_csv('https://www.dropbox.com/s/f9z2zmfsjnht0dl/df_accepted1_sm_inversetransformed.csv?dl=1')"
   ]
  },
  {
   "cell_type": "markdown",
   "id": "awful-sudan",
   "metadata": {},
   "source": [
    "### To go directly to dataframe with columns dropped and null values cleaned, read file below and go to cell 28"
   ]
  },
  {
   "cell_type": "code",
   "execution_count": null,
   "id": "under-maldives",
   "metadata": {},
   "outputs": [],
   "source": [
    "### Dropped columns and dropped NAs dataframe\n",
    "df_accepted4_sm_inversetransformed = pd.read_csv('https://www.dropbox.com/s/hl1fp2b50a2due8/df_accepted4_sm_inversetransformed.csv?dl=1')"
   ]
  },
  {
   "cell_type": "markdown",
   "id": "dirty-class",
   "metadata": {},
   "source": [
    "### To go directly to filtered 36month term datasets, read file below and go to cell 38 (in this section continuous binned into categorical levels, 'profit & loss' column created, other cleaning steps done)"
   ]
  },
  {
   "cell_type": "code",
   "execution_count": null,
   "id": "spoken-channels",
   "metadata": {},
   "outputs": [],
   "source": [
    "df_accepted4a_36m_no_0_cox = pd.read_csv('https://www.dropbox.com/s/m8pnpz5anojf3tb/df_accepted4a_36m_no_0_cox.csv?dl=1')"
   ]
  },
  {
   "cell_type": "markdown",
   "id": "mediterranean-mounting",
   "metadata": {},
   "source": [
    "### To go directly to filtered 60month term datasets, read file below and go to cell 43 (in this section continuous binned into categorical levels, 'profit & loss' column created, other cleaning steps done)"
   ]
  },
  {
   "cell_type": "code",
   "execution_count": null,
   "id": "closing-acrylic",
   "metadata": {},
   "outputs": [],
   "source": [
    "df_accepted4a_60m_no_0_cox = pd.read_csv('https://www.dropbox.com/s/iewlcsolsni81ui/df_accepted4a_60m_no_0_cox.csv?dl=1')"
   ]
  },
  {
   "cell_type": "markdown",
   "id": "scientific-diagram",
   "metadata": {},
   "source": [
    "### Start here to go through preprocessing step-by-step"
   ]
  },
  {
   "cell_type": "code",
   "execution_count": null,
   "id": "official-update",
   "metadata": {},
   "outputs": [],
   "source": [
    "print(df_accepted1_sm_inversetransformed.shape) #(678210, 88)"
   ]
  },
  {
   "cell_type": "code",
   "execution_count": null,
   "id": "fantastic-hepatitis",
   "metadata": {},
   "outputs": [],
   "source": [
    "df_accepted1_sm_inversetransformed['loan_status'].value_counts()"
   ]
  },
  {
   "cell_type": "markdown",
   "id": "conditional-narrow",
   "metadata": {},
   "source": [
    "### Add survival 'event' column: loan_status_bool2 (competing risk: 0, 1, 2)"
   ]
  },
  {
   "cell_type": "code",
   "execution_count": null,
   "id": "administrative-freedom",
   "metadata": {},
   "outputs": [],
   "source": [
    "# 'Prepaid' coded as 1\n",
    "# 'Default'/'Delinquent'/'Late' coded as 2\n",
    "# 'Current' coded as 0\n",
    "\n",
    "def one_two_or_zero(status):  \n",
    "    if (status == 'Fully Paid') or (status == 'Does not meet the credit policy. Status:Fully Paid'):\n",
    "        return 1\n",
    "    elif ((status == 'Charged Off') | (status == 'Late (31-120 days)') | (status == 'In Grace Period')\n",
    "    | (status == 'Late (16-30 days)') | (status == 'Does not meet the credit policy.  Status:Charged Off') \n",
    "    | (status == 'Default')):\n",
    "        return 2\n",
    "    else:\n",
    "        return 0"
   ]
  },
  {
   "cell_type": "code",
   "execution_count": null,
   "id": "least-serbia",
   "metadata": {},
   "outputs": [],
   "source": [
    "df_accepted1_sm_inversetransformed['loan_status_bool2'] = df_accepted1_sm_inversetransformed['loan_status'].apply(lambda x: one_two_or_zero(x))"
   ]
  },
  {
   "cell_type": "markdown",
   "id": "aerial-classroom",
   "metadata": {},
   "source": [
    "### Table showing how survival 'event' is coded"
   ]
  },
  {
   "cell_type": "code",
   "execution_count": null,
   "id": "blond-emergency",
   "metadata": {},
   "outputs": [],
   "source": [
    "print(df_accepted1_sm_inversetransformed.shape)\n",
    "df_accepted1_sm_inversetransformed[['loan_status', 'loan_status_bool2']].head() #(678210, 89)"
   ]
  },
  {
   "cell_type": "markdown",
   "id": "liquid-kruger",
   "metadata": {},
   "source": [
    "### Add survival 'duration' column: surv1_timedelta"
   ]
  },
  {
   "cell_type": "code",
   "execution_count": null,
   "id": "graduate-welsh",
   "metadata": {},
   "outputs": [],
   "source": [
    "df_accepted1_sm_inversetransformed['issue_d'] = pd.to_datetime(df_accepted1_sm_inversetransformed['issue_d'])\n",
    "df_accepted1_sm_inversetransformed['last_pymnt_d'] = pd.to_datetime(df_accepted1_sm_inversetransformed['last_pymnt_d'])\n",
    "df_accepted1_sm_inversetransformed['next_pymnt_d'] = pd.to_datetime(df_accepted1_sm_inversetransformed['next_pymnt_d'])\n",
    "df_accepted1_sm_inversetransformed['last_credit_pull_d'] = pd.to_datetime(df_accepted1_sm_inversetransformed['last_credit_pull_d'])"
   ]
  },
  {
   "cell_type": "code",
   "execution_count": null,
   "id": "solved-finding",
   "metadata": {},
   "outputs": [],
   "source": [
    "df_accepted1_sm_inversetransformed['surv1_timedelta'] = df_accepted1_sm_inversetransformed['last_pymnt_d'] - df_accepted1_sm_inversetransformed['issue_d']"
   ]
  },
  {
   "cell_type": "code",
   "execution_count": null,
   "id": "stuffed-benefit",
   "metadata": {},
   "outputs": [],
   "source": [
    "df_accepted1_sm_inversetransformed['surv1_timedelta'] = df_accepted1_sm_inversetransformed['surv1_timedelta'].astype('timedelta64[D]')"
   ]
  },
  {
   "cell_type": "code",
   "execution_count": null,
   "id": "structural-connectivity",
   "metadata": {},
   "outputs": [],
   "source": [
    "df_accepted1_sm_inversetransformed.shape #(678210, 90) with added surv1_timedelta"
   ]
  },
  {
   "cell_type": "markdown",
   "id": "protective-florida",
   "metadata": {},
   "source": [
    "### Drop columns"
   ]
  },
  {
   "cell_type": "code",
   "execution_count": null,
   "id": "asian-lottery",
   "metadata": {},
   "outputs": [],
   "source": [
    "# Drop columns\n",
    "df_accepted1_sm_inversetransformed.drop(['revol_bal_joint', 'deferral_term', 'hardship_amount', 'hardship_length',\n",
    "                                        'hardship_dpd', 'hardship_payoff_balance_amount', 'settlement_amount', 'settlement_percentage',\n",
    "                                        'settlement_term', 'mths_since_last_delinq', 'next_pymnt_d',\n",
    "                                        'mths_since_last_major_derog', 'mths_since_rcnt_il',\n",
    "                                        'total_bal_il', 'il_util', 'open_rv_12m', 'max_bal_bc', 'inq_fi',\n",
    "                                        'inq_last_12m', 'mths_since_recent_bc_dlq', 'mths_since_recent_revol_delinq',\n",
    "                                        'hardship_last_payment_amount', 'all_util'], axis=1, inplace=True)\n",
    "print(df_accepted1_sm_inversetransformed.shape) #678210, 67\n"
   ]
  },
  {
   "cell_type": "markdown",
   "id": "latin-television",
   "metadata": {},
   "source": [
    "### Dropna rows"
   ]
  },
  {
   "cell_type": "code",
   "execution_count": null,
   "id": "interior-terry",
   "metadata": {},
   "outputs": [],
   "source": [
    "df_accepted1_sm_inversetransformed.dropna(subset=['loan_amnt', 'int_rate', 'installment',\n",
    " 'annual_inc', 'fico_range_low', 'out_prncp', 'total_rec_int', 'term', 'dti'],                           \n",
    " inplace=True)\n",
    "df_accepted1_sm_inversetransformed.shape #(677672, 68)"
   ]
  },
  {
   "cell_type": "code",
   "execution_count": null,
   "id": "detected-overhead",
   "metadata": {},
   "outputs": [],
   "source": [
    "df_accepted4_sm_inversetransformed = df_accepted1_sm_inversetransformed.dropna()\n",
    "print(df_accepted4_sm_inversetransformed.shape) #(505101, 67)\n",
    "df_accepted4_sm_inversetransformed.isnull().sum().sum() #0"
   ]
  },
  {
   "cell_type": "markdown",
   "id": "eleven-topic",
   "metadata": {},
   "source": [
    "### Read in directly dataframe with columns dropped and NA removed"
   ]
  },
  {
   "cell_type": "markdown",
   "id": "hungry-october",
   "metadata": {},
   "source": [
    "### Filtered for survival models"
   ]
  },
  {
   "cell_type": "code",
   "execution_count": null,
   "id": "smooth-bahamas",
   "metadata": {},
   "outputs": [],
   "source": [
    "# Filtered for survival models\n",
    "\n",
    "df_accepted4a_sm_cox = df_accepted4_sm_inversetransformed.filter(['total_pymnt', 'total_rec_prncp', 'out_prncp', 'loan_amnt', 'loan_status_bool2', \n",
    "    'loan_status_bool3', 'loan_status', 'term', 'int_rate', 'grade', 'grade_map', \n",
    "    'sub_grade_map', 'emp_length', 'home_ownership', 'verification_status',  \n",
    "    'dti', 'delinq_2yrs', 'fico_range_low', 'inq_last_6mths', 'revol_util', 'out_prncp', 'bc_util', \n",
    "    'chargeoff_within_12_mths', 'mths_since_recent_bc', 'mths_since_recent_inq', 'pct_tl_nvr_dlq', 'percent_bc_gt_75', 'surv1_timedelta'])\n",
    "\n",
    "df_accepted4a_sm_cox.shape #(505101, 27)"
   ]
  },
  {
   "cell_type": "code",
   "execution_count": null,
   "id": "afraid-continent",
   "metadata": {},
   "outputs": [],
   "source": [
    "df_accepted4a_sm_cox['profit_&_loss'] = ((df_accepted4a_sm_cox['total_pymnt'] - df_accepted4a_sm_cox['loan_amnt'])/\n",
    "                                           df_accepted4a_sm_cox['loan_amnt'])"
   ]
  },
  {
   "cell_type": "markdown",
   "id": "entire-plain",
   "metadata": {},
   "source": [
    "### Term and Emp_length convert to integers"
   ]
  },
  {
   "cell_type": "code",
   "execution_count": null,
   "id": "fossil-bottom",
   "metadata": {},
   "outputs": [],
   "source": [
    "df_accepted4a_sm_cox['term'] = df_accepted4a_sm_cox['term'].apply(str)\n",
    "df_accepted4a_sm_cox['term'] = df_accepted4a_sm_cox.apply(lambda row: \"\".join(filter(str.isdigit, row['term'])), \n",
    "                                  axis=1)\n",
    "df_accepted4a_sm_cox['term'] = pd.to_numeric(df_accepted4a_sm_cox['term'])"
   ]
  },
  {
   "cell_type": "code",
   "execution_count": null,
   "id": "affecting-tamil",
   "metadata": {},
   "outputs": [],
   "source": [
    "df_accepted4a_sm_cox['emp_length'] = df_accepted4a_sm_cox['emp_length'].apply(str)\n",
    "df_accepted4a_sm_cox['emp_length'] = df_accepted4a_sm_cox.apply(lambda row: \"\".join(filter(str.isdigit, row['emp_length'])), \n",
    "                                  axis=1)\n",
    "df_accepted4a_sm_cox['emp_length'] = pd.to_numeric(df_accepted4a_sm_cox['emp_length'])"
   ]
  },
  {
   "cell_type": "code",
   "execution_count": null,
   "id": "formed-cheese",
   "metadata": {},
   "outputs": [],
   "source": [
    "df_accepted4a_sm_cox['GRADE'] = df_accepted4a_sm_cox['grade']\n",
    "df_accepted4a_sm_cox = df_accepted4a_sm_cox.drop(['grade'], axis=1)"
   ]
  },
  {
   "cell_type": "code",
   "execution_count": null,
   "id": "dominant-waterproof",
   "metadata": {},
   "outputs": [],
   "source": [
    "df_accepted4a_sm_cox['LOAN_AMNT_BINNED1'] = pd.cut(df_accepted4a_sm_cox['loan_amnt'], \n",
    "                                                  bins=[0, 1000, 8000, 13950, 20000, 40000],\n",
    "                                                  labels=['0-1k','1001-8k', '8001-14k',\n",
    "                                                         '14001-20k', '20001-40k'])\n"
   ]
  },
  {
   "cell_type": "markdown",
   "id": "accredited-belgium",
   "metadata": {},
   "source": [
    "### Bin continuous to categorical"
   ]
  },
  {
   "cell_type": "code",
   "execution_count": null,
   "id": "operational-ocean",
   "metadata": {},
   "outputs": [],
   "source": [
    "# Grade vs. Loan Amount\n",
    "df_accepted4a_sm_cox['BC_UTIL1'] = pd.cut(df_accepted4a_sm_cox['bc_util'], \n",
    "                                          bins = [0, 35, 60, 82, 195],\n",
    "                                          labels = ['0-35%', '35.1-59.1%', '59.2-82.1%', '82.2-194%'])"
   ]
  },
  {
   "cell_type": "code",
   "execution_count": null,
   "id": "incorrect-capture",
   "metadata": {},
   "outputs": [],
   "source": [
    "# Grade vs. Interest Rate\n",
    "df_accepted4a_sm_cox['INT_RATE_BINNED1'] = pd.cut(df_accepted4a_sm_cox['int_rate'], \n",
    "                                                  bins=[0, 5.5, 10, 12.75, 16, 30],\n",
    "                                                  labels=['0-5.5%','5.6-10%', '11-12.75%',\n",
    "                                                         '12.76-16%', '16.01-30%'])\n"
   ]
  },
  {
   "cell_type": "code",
   "execution_count": null,
   "id": "contemporary-intranet",
   "metadata": {},
   "outputs": [],
   "source": [
    "# Grade vs. FICO\n",
    "df_accepted4a_sm_cox['FICO_BINNED1'] = pd.cut(df_accepted4a_sm_cox['fico_range_low'], \n",
    "                                              bins = [0, 660, 675, 690, 715, 845],\n",
    "                                              labels = ['0-660', '661-675', '676-690', '691-715', '716-845'])"
   ]
  },
  {
   "cell_type": "code",
   "execution_count": null,
   "id": "pending-burner",
   "metadata": {},
   "outputs": [],
   "source": [
    "# Grade vs. Employment Length\n",
    "df_accepted4a_sm_cox['EMP_LENGTH_BINNED1'] = pd.cut(df_accepted4a_sm_cox['emp_length'], \n",
    "                                          bins = [0, 1, 2, 6, 10],\n",
    "                                          labels = ['0-1', '1.1-2', '2.2-6', '6.1-10'])"
   ]
  },
  {
   "cell_type": "code",
   "execution_count": null,
   "id": "surprised-auction",
   "metadata": {},
   "outputs": [],
   "source": [
    "# Grade vs. Homeownership\n",
    "df_accepted4a_sm_cox['HOME_OWNERSHIP_OWN_IS_0'] = df_accepted4a_sm_cox['home_ownership'].map({'OWN': 0, 'MORTGAGE': 1, 'RENT': 2}) # own is 0"
   ]
  },
  {
   "cell_type": "code",
   "execution_count": null,
   "id": "analyzed-america",
   "metadata": {},
   "outputs": [],
   "source": [
    "# Duration object: convert to months\n",
    "df_accepted4a_sm_cox['surv1_timedelta_mnth'] = round(df_accepted4a_sm_cox['surv1_timedelta'] / 30.417)"
   ]
  },
  {
   "cell_type": "code",
   "execution_count": null,
   "id": "signed-lender",
   "metadata": {},
   "outputs": [],
   "source": [
    "#Convert from float to int\n",
    "df_accepted4a_sm_cox['surv1_timedelta_mnth'] = df_accepted4a_sm_cox['surv1_timedelta_mnth'].round(0).astype(int)\n",
    "print(df_accepted4a_sm_cox.dtypes['surv1_timedelta_mnth'])\n",
    "df_accepted4a_sm_cox['surv1_timedelta_mnth'].head()"
   ]
  },
  {
   "cell_type": "code",
   "execution_count": null,
   "id": "placed-madness",
   "metadata": {},
   "outputs": [],
   "source": [
    "df_accepted4a_sm_cox.shape #(505101, 35 after add binned categories)"
   ]
  },
  {
   "cell_type": "markdown",
   "id": "liked-explosion",
   "metadata": {},
   "source": [
    "### 36 Month Term"
   ]
  },
  {
   "cell_type": "code",
   "execution_count": null,
   "id": "enhanced-racing",
   "metadata": {},
   "outputs": [],
   "source": [
    "df_accepted4a_36m_cox = pd.read_csv('https://www.dropbox.com/s/6jom86xuh0bb86h/df_accepted4a_36m_cox.csv?dl=1')\n",
    "df_accepted4a_36m_cox = df_accepted4a_sm_cox[df_accepted4a_sm_cox['term'] == 36]"
   ]
  },
  {
   "cell_type": "markdown",
   "id": "minute-drive",
   "metadata": {},
   "source": [
    "### 60 Month Term"
   ]
  },
  {
   "cell_type": "code",
   "execution_count": null,
   "id": "surprised-mathematics",
   "metadata": {},
   "outputs": [],
   "source": [
    "df_accepted4a_60m_cox = pd.read_csv('https://www.dropbox.com/s/mraql0j621xpfl5/df_accepted4a_60m_cox.csv?dl=1')\n",
    "df_accepted4a_60m_cox = df_accepted4a_sm_cox[df_accepted4a_sm_cox['term'] == 60]"
   ]
  },
  {
   "cell_type": "code",
   "execution_count": null,
   "id": "civil-spirit",
   "metadata": {},
   "outputs": [],
   "source": [
    "# subset df without censored observations\n",
    "df_accepted4a_36m_no_0_cox = df_accepted4a_36m_cox[(df_accepted4a_36m_cox['loan_status_bool2'] == 'Prepaid') | \n",
    "                                                   (df_accepted4a_36m_cox['loan_status_bool2'] == 'Default/Delinquent')]"
   ]
  },
  {
   "cell_type": "code",
   "execution_count": null,
   "id": "informed-combine",
   "metadata": {},
   "outputs": [],
   "source": [
    "# subset df without censored observations\n",
    "df_accepted4a_60m_no_0_cox = df_accepted4a_60m_cox[(df_accepted4a_60m_cox['loan_status'] == 'Prepaid') | \n",
    "                                                   (df_accepted4a_60m_cox['loan_status'] == 'Default/Delinquent')]"
   ]
  },
  {
   "cell_type": "markdown",
   "id": "sublime-special",
   "metadata": {},
   "source": [
    "### READ IN DIRECTLY HERE FILES THAT WILL GO INTO R FILE\n",
    "### Grade vs. Profit & Loss: 36months "
   ]
  },
  {
   "cell_type": "code",
   "execution_count": null,
   "id": "several-tuition",
   "metadata": {},
   "outputs": [],
   "source": [
    "#36mnth\n",
    "df_accepted4a_36m_no_0_cox = pd.read_csv('https://www.dropbox.com/s/m8pnpz5anojf3tb/df_accepted4a_36m_no_0_cox.csv?dl=1')"
   ]
  },
  {
   "cell_type": "code",
   "execution_count": null,
   "id": "blind-noise",
   "metadata": {},
   "outputs": [],
   "source": [
    "df_accepted4a_36m_no_0_cox['GRADE'] = df_accepted4a_36m_no_0_cox['GRADE'].astype('category')\n",
    "\n",
    "df_accepted4a_36m_no_0_cox['GRADE'].cat.reorder_categories(['A', 'B', 'C', \n",
    "                    'D', 'E', 'F', 'G'], inplace=True)"
   ]
  },
  {
   "cell_type": "code",
   "execution_count": null,
   "id": "unlimited-marking",
   "metadata": {},
   "outputs": [],
   "source": [
    "sns.boxplot(x='GRADE', y='profit_&_loss', data=df_accepted4a_36m_no_0_cox).set_title('Grade vs. Profit & Loss: 36 Months')\n"
   ]
  },
  {
   "cell_type": "code",
   "execution_count": null,
   "id": "adapted-ranch",
   "metadata": {},
   "outputs": [],
   "source": [
    "df_accepted4a_36m_cox['GRADE'] = df_accepted4a_36m_cox['GRADE'].astype('category')\n",
    "\n",
    "df_accepted4a_36m_cox['GRADE'].cat.reorder_categories(['A', 'B', 'C', \n",
    "                    'D', 'E', 'F', 'G'], inplace=True)"
   ]
  },
  {
   "cell_type": "code",
   "execution_count": null,
   "id": "frozen-evidence",
   "metadata": {},
   "outputs": [],
   "source": [
    "df_accepted4a_36m_cox = df_accepted4a_36m_cox['loan_status_bool2'] != 0"
   ]
  },
  {
   "cell_type": "code",
   "execution_count": null,
   "id": "infrared-queen",
   "metadata": {},
   "outputs": [],
   "source": [
    "# 60mnth\n",
    "df_accepted4a_60m_no_0_cox = pd.read_csv('https://www.dropbox.com/s/iewlcsolsni81ui/df_accepted4a_60m_no_0_cox.csv?dl=1')"
   ]
  },
  {
   "cell_type": "code",
   "execution_count": null,
   "id": "confirmed-breeding",
   "metadata": {},
   "outputs": [],
   "source": [
    "df_accepted4a_60m_no_0_cox['GRADE'] = df_accepted4a_60m_no_0_cox['GRADE'].astype('category')\n",
    "\n",
    "df_accepted4a_60m_no_0_cox['GRADE'].cat.reorder_categories(['A', 'B', 'C', \n",
    "                    'D', 'E', 'F', 'G'], inplace=True)"
   ]
  },
  {
   "cell_type": "code",
   "execution_count": null,
   "id": "satellite-winning",
   "metadata": {},
   "outputs": [],
   "source": [
    "sns.boxplot(x='GRADE', y='profit_&_loss', data=df_accepted4a_60m_no_0_cox).set_title('Grade vs. Profit & Loss: 60 Months')"
   ]
  },
  {
   "cell_type": "markdown",
   "id": "ignored-toyota",
   "metadata": {},
   "source": [
    "### FICO vs. P&L: 36 mnth"
   ]
  },
  {
   "cell_type": "code",
   "execution_count": null,
   "id": "communist-wales",
   "metadata": {},
   "outputs": [],
   "source": [
    "df_accepted4a_36m_no_0_cox['FICO_BINNED1'] = df_accepted4a_36m_no_0_cox['FICO_BINNED1'].astype('category')\n",
    "\n",
    "df_accepted4a_36m_no_0_cox['FICO_BINNED1'].cat.reorder_categories(\n",
    "['0-660', '661-675', '676-690', '691-715', '716-845'], inplace=True)"
   ]
  },
  {
   "cell_type": "code",
   "execution_count": null,
   "id": "micro-version",
   "metadata": {},
   "outputs": [],
   "source": [
    "sns.boxplot(x='FICO_BINNED1', y='profit_&_loss', data=df_accepted4a_36m_no_0_cox).set_title('FICO Score vs. Profit & Loss: 36 Months')"
   ]
  },
  {
   "cell_type": "markdown",
   "id": "digital-origin",
   "metadata": {},
   "source": [
    "### FICO vs. P&L: 60 mnth"
   ]
  },
  {
   "cell_type": "code",
   "execution_count": null,
   "id": "criminal-cream",
   "metadata": {},
   "outputs": [],
   "source": [
    "df_accepted4a_60m_no_0_cox['FICO_BINNED1'] = df_accepted4a_60m_no_0_cox['FICO_BINNED1'].astype('category')\n",
    "\n",
    "df_accepted4a_60m_no_0_cox['FICO_BINNED1'].cat.reorder_categories(\n",
    "['0-660', '661-675', '676-690', '691-715', '716-845'], inplace=True)\n",
    "sns.boxplot(x='FICO_BINNED1', y='profit_&_loss', data=df_accepted4a_60m_no_0_cox).set_title('FICO Score vs. Profit & Loss: 60 Months')"
   ]
  },
  {
   "cell_type": "markdown",
   "id": "labeled-species",
   "metadata": {},
   "source": [
    "###  Bankcard Utilization vs. P&L"
   ]
  },
  {
   "cell_type": "code",
   "execution_count": null,
   "id": "fifteen-archive",
   "metadata": {},
   "outputs": [],
   "source": [
    "#36mnth\n",
    "df_accepted4a_36m_no_0_cox['BC_UTIL1'] = df_accepted4a_36m_no_0_cox['BC_UTIL1'].astype('category')\n",
    "\n",
    "df_accepted4a_36m_no_0_cox['BC_UTIL1'].cat.reorder_categories(\n",
    "['0-35%', '35.1-59.1%', '59.2-82.1%', '82.2-194%'], inplace=True)"
   ]
  },
  {
   "cell_type": "code",
   "execution_count": null,
   "id": "excited-occupation",
   "metadata": {},
   "outputs": [],
   "source": [
    "sns.boxplot(x='BC_UTIL1', y='profit_&_loss', data=df_accepted4a_36m_no_0_cox).set_title('BC Utilization vs. Profit & Loss: 36 Months')"
   ]
  },
  {
   "cell_type": "code",
   "execution_count": null,
   "id": "innovative-crowd",
   "metadata": {},
   "outputs": [],
   "source": [
    "#60mnth\n",
    "df_accepted4a_60m_no_0_cox['BC_UTIL1'] = df_accepted4a_60m_no_0_cox['BC_UTIL1'].astype('category')\n",
    "\n",
    "df_accepted4a_60m_no_0_cox['BC_UTIL1'].cat.reorder_categories(\n",
    "['0-35%', '35.1-59.1%', '59.2-82.1%', '82.2-194%'], inplace=True)"
   ]
  },
  {
   "cell_type": "code",
   "execution_count": null,
   "id": "scenic-enemy",
   "metadata": {},
   "outputs": [],
   "source": [
    "sns.boxplot(x='BC_UTIL1', y='profit_&_loss', data=df_accepted4a_60m_no_0_cox).set_title('BC Utilization vs. Profit & Loss: 60 Months')"
   ]
  },
  {
   "cell_type": "markdown",
   "id": "smooth-stanford",
   "metadata": {},
   "source": [
    "### Employment Length vs. P&L"
   ]
  },
  {
   "cell_type": "code",
   "execution_count": null,
   "id": "second-share",
   "metadata": {},
   "outputs": [],
   "source": [
    "#36mnth\n",
    "df_accepted4a_36m_no_0_cox['EMP_LENGTH_BINNED1'] = df_accepted4a_36m_no_0_cox['EMP_LENGTH_BINNED1'].astype('category')\n",
    "\n",
    "df_accepted4a_36m_no_0_cox['EMP_LENGTH_BINNED1'].cat.reorder_categories(\n",
    "['0-1', '1.1-2', '2.2-6', '6.1-10'], inplace=True)"
   ]
  },
  {
   "cell_type": "code",
   "execution_count": null,
   "id": "given-insulin",
   "metadata": {},
   "outputs": [],
   "source": [
    "sns.boxplot(x='EMP_LENGTH_BINNED1', y='profit_&_loss', data=df_accepted4a_36m_no_0_cox).set_title('Employment Length vs. Profit & Loss: 36 Months')"
   ]
  },
  {
   "cell_type": "code",
   "execution_count": null,
   "id": "sixth-showcase",
   "metadata": {},
   "outputs": [],
   "source": [
    "#60mnth\n",
    "df_accepted4a_60m_no_0_cox['EMP_LENGTH_BINNED1'] = df_accepted4a_60m_no_0_cox['EMP_LENGTH_BINNED1'].astype('category')\n",
    "\n",
    "df_accepted4a_60m_no_0_cox['EMP_LENGTH_BINNED1'].cat.reorder_categories(\n",
    "['0-1', '1.1-2', '2.2-6', '6.1-10'], inplace=True)"
   ]
  },
  {
   "cell_type": "code",
   "execution_count": null,
   "id": "agricultural-buying",
   "metadata": {},
   "outputs": [],
   "source": [
    "sns.boxplot(x='EMP_LENGTH_BINNED1', y='profit_&_loss', data=df_accepted4a_60m_no_0_cox).set_title('Employment Length vs. Profit & Loss: 60 Months')\n"
   ]
  },
  {
   "cell_type": "markdown",
   "id": "national-making",
   "metadata": {},
   "source": [
    "### Home Ownership vs. P&L"
   ]
  },
  {
   "cell_type": "code",
   "execution_count": null,
   "id": "moving-runner",
   "metadata": {
    "scrolled": true
   },
   "outputs": [],
   "source": [
    "#36mnth\n",
    "df_accepted4a_36m_no_0_cox['HOME_OWNERSHIP_OWN_IS_0'] = df_accepted4a_36m_no_0_cox['HOME_OWNERSHIP_OWN_IS_0'].astype('category')\n",
    "\n",
    "df_accepted4a_36m_no_0_cox['HOME_OWNERSHIP_OWN_IS_0'].cat.reorder_categories(\n",
    "['Homeowner', 'Mortgage', 'Rent'], inplace=True)"
   ]
  },
  {
   "cell_type": "code",
   "execution_count": null,
   "id": "changed-assumption",
   "metadata": {},
   "outputs": [],
   "source": [
    "sns.boxplot(x='HOME_OWNERSHIP_OWN_IS_0', y='profit_&_loss', data=df_accepted4a_36m_no_0_cox).set_title('Home Ownership (Own=0, Mortgage=1, Rent=2) vs. Profit & Loss: 36 Months')\n"
   ]
  },
  {
   "cell_type": "code",
   "execution_count": null,
   "id": "entire-symbol",
   "metadata": {},
   "outputs": [],
   "source": [
    "#60mnth\n",
    "df_accepted4a_60m_no_0_cox['HOME_OWNERSHIP_OWN_IS_0'] = df_accepted4a_60m_no_0_cox['HOME_OWNERSHIP_OWN_IS_0'].astype('category')\n",
    "\n",
    "df_accepted4a_60m_no_0_cox['HOME_OWNERSHIP_OWN_IS_0'].cat.reorder_categories(\n",
    "['Homeowner', 'Mortgage', 'Rent'], inplace=True)"
   ]
  },
  {
   "cell_type": "code",
   "execution_count": null,
   "id": "temporal-failing",
   "metadata": {},
   "outputs": [],
   "source": [
    "sns.boxplot(x='HOME_OWNERSHIP_OWN_IS_0', y='profit_&_loss', data=df_accepted4a_60m_no_0_cox).set_title('Home Ownership (Own=0, Mortgage=1, Rent=2) vs. Profit & Loss: 36 Months')"
   ]
  }
 ],
 "metadata": {
  "kernelspec": {
   "display_name": "Python 3",
   "language": "python",
   "name": "python3"
  },
  "language_info": {
   "codemirror_mode": {
    "name": "ipython",
    "version": 3
   },
   "file_extension": ".py",
   "mimetype": "text/x-python",
   "name": "python",
   "nbconvert_exporter": "python",
   "pygments_lexer": "ipython3",
   "version": "3.7.3"
  }
 },
 "nbformat": 4,
 "nbformat_minor": 5
}
